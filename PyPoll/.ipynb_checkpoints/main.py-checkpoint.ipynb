{
 "cells": [
  {
   "cell_type": "code",
   "execution_count": 33,
   "id": "d17f9afb",
   "metadata": {},
   "outputs": [],
   "source": [
    "import csv\n",
    "import numpy as np\n",
    "from collections import Counter"
   ]
  },
  {
   "cell_type": "code",
   "execution_count": 3,
   "id": "9e1df662",
   "metadata": {},
   "outputs": [
    {
     "data": {
      "text/plain": [
       "_io.TextIOWrapper"
      ]
     },
     "execution_count": 3,
     "metadata": {},
     "output_type": "execute_result"
    }
   ],
   "source": [
    "filepath = open('./Resources/election_data.csv')\n",
    "type(filepath)"
   ]
  },
  {
   "cell_type": "code",
   "execution_count": 5,
   "id": "2ea7a3e1",
   "metadata": {},
   "outputs": [
    {
     "name": "stdout",
     "output_type": "stream",
     "text": [
      "[['Ballot ID', 'County', 'Candidate'], ['1323913', 'Jefferson', 'Charles Casper Stockham'], ['1005842', 'Jefferson', 'Charles Casper Stockham'], ['1880345', 'Jefferson', 'Charles Casper Stockham'], ['1600337', 'Jefferson', 'Charles Casper Stockham'], ['1835994', 'Jefferson', 'Charles Casper Stockham'], ['1772756', 'Jefferson', 'Charles Casper Stockham'], ['1920023', 'Jefferson', 'Charles Casper Stockham'], ['1040408', 'Jefferson', 'Charles Casper Stockham'], ['1018414', 'Jefferson', 'Charles Casper Stockham']]\n"
     ]
    }
   ],
   "source": [
    "fileread = open('./Resources/election_data.csv', \"r\")\n",
    "data = list(csv.reader(fileread, delimiter=','))\n",
    "print(data[:10])"
   ]
  },
  {
   "cell_type": "code",
   "execution_count": 6,
   "id": "66bcf887",
   "metadata": {},
   "outputs": [
    {
     "data": {
      "text/plain": [
       "['Ballot ID', 'County', 'Candidate']"
      ]
     },
     "execution_count": 6,
     "metadata": {},
     "output_type": "execute_result"
    }
   ],
   "source": [
    "#header\n",
    "header = data[0]\n",
    "header"
   ]
  },
  {
   "cell_type": "code",
   "execution_count": 26,
   "id": "206f145b",
   "metadata": {},
   "outputs": [
    {
     "data": {
      "text/plain": [
       "369711"
      ]
     },
     "execution_count": 26,
     "metadata": {},
     "output_type": "execute_result"
    }
   ],
   "source": [
    "#total number of votes cast\n",
    "data_values_ballotId= []\n",
    "cnt = 0\n",
    "data_values = data[1:]\n",
    "for i in range(len(data_values)):\n",
    "    data_values_ballotId.append(data_values[i][0])\n",
    "num_votescast = len(data_values_ballotId)\n",
    "num_votescast"
   ]
  },
  {
   "cell_type": "code",
   "execution_count": 34,
   "id": "cbf8d7fa",
   "metadata": {},
   "outputs": [
    {
     "data": {
      "text/plain": [
       "['Jefferson', 'Denver', 'Arapahoe']"
      ]
     },
     "execution_count": 34,
     "metadata": {},
     "output_type": "execute_result"
    }
   ],
   "source": [
    "#complete list of candidates who received votes\n",
    "county_list = []\n",
    "candidate_list = []\n",
    "for j in range(len(data_values)):\n",
    "    county_list.append(data_values[j][1])\n",
    "    candidate_list.append(data_values[j][2])\n",
    "uniqcounty_list = list(Counter(county_list))\n",
    "uniquecandidate_list = list(Counter(candidate_list))\n",
    "uniqcounty_list\n"
   ]
  },
  {
   "cell_type": "code",
   "execution_count": 35,
   "id": "11692edf",
   "metadata": {},
   "outputs": [
    {
     "name": "stdout",
     "output_type": "stream",
     "text": [
      "['Charles Casper Stockham', 'Diana DeGette', 'Raymon Anthony Doane']\n"
     ]
    },
    {
     "data": {
      "text/plain": [
       "['Jefferson', 'Denver', 'Arapahoe']"
      ]
     },
     "execution_count": 35,
     "metadata": {},
     "output_type": "execute_result"
    }
   ],
   "source": [
    "print(uniquecandidate_list)\n",
    "uniqcounty_list"
   ]
  },
  {
   "cell_type": "code",
   "execution_count": 21,
   "id": "bef0ba05",
   "metadata": {},
   "outputs": [
    {
     "name": "stdout",
     "output_type": "stream",
     "text": [
      "count of votes for Charles Casper Stockham: 85220\n",
      "count of votes for Diana DeGette: 272899\n",
      "count of votes for Raymon Anthony Doane: 11613\n"
     ]
    }
   ],
   "source": [
    "#total number of votes each candidate won\n",
    "for k in range(len(data_values)):\n",
    "    if data_values[k][2] == 'Charles Casper Stockham':\n",
    "        count_votes_ccs += 1\n",
    "    elif data_values[k][2] == 'Diana DeGette':\n",
    "            count_votes_DD += 1\n",
    "    elif data_values[k][2] == 'Raymon Anthony Doane':\n",
    "            count_votes_RAD += 1\n",
    "    else:\n",
    "        print(\"count_votes = 0\")\n",
    "    \n",
    "print(f\"count of votes for Charles Casper Stockham: {count_votes_ccs}\")\n",
    "print(f\"count of votes for Diana DeGette: {count_votes_DD}\")\n",
    "print(f\"count of votes for Raymon Anthony Doane: {count_votes_RAD}\")"
   ]
  },
  {
   "cell_type": "code",
   "execution_count": 30,
   "id": "a8a1bbdb",
   "metadata": {},
   "outputs": [
    {
     "name": "stdout",
     "output_type": "stream",
     "text": [
      "Charles Casper Stockham: 23.05% \n",
      "Diana DeGette: 73.81%\n",
      "Raymon Anthony Doane: 3.14% \n"
     ]
    },
    {
     "data": {
      "text/plain": [
       "73.81"
      ]
     },
     "execution_count": 30,
     "metadata": {},
     "output_type": "execute_result"
    }
   ],
   "source": [
    "#percentage of votes for each candidate\n",
    "ccs = round((count_votes_ccs/num_votescast)*100,2)\n",
    "DD = round((count_votes_DD/num_votescast)*100, 2)\n",
    "RAD = round((count_votes_RAD/num_votescast)*100,2)\n",
    "print(f\"Charles Casper Stockham: {round((count_votes_ccs/num_votescast)*100,2)}% \")\n",
    "print(f\"Diana DeGette: {round((count_votes_DD/num_votescast)*100, 2)}%\")\n",
    "print(f\"Raymon Anthony Doane: {round((count_votes_RAD/num_votescast)*100,2)}% \")\n",
    "percentage = [ccs, DD, RAD]\n",
    "max(percentage)"
   ]
  },
  {
   "cell_type": "code",
   "execution_count": 31,
   "id": "0d24e86b",
   "metadata": {},
   "outputs": [
    {
     "name": "stdout",
     "output_type": "stream",
     "text": [
      "election results\n",
      "-----------------------------------\n",
      "Total Votes: 369711\n",
      "-----------------------------------\n",
      "Charles Casper Stockham: 23.05% (85220)\n",
      "Diana DeGette: 73.81% (272899)\n",
      "Raymon Anthony Doane: 3.14% (11613)\n",
      "------------------------------------\n",
      "Winner: Diana DeGette \n",
      "------------------------------------\n"
     ]
    }
   ],
   "source": [
    "print(\"election results\")\n",
    "print(\"-----------------------------------\")\n",
    "print(f\"Total Votes: {num_votescast}\")\n",
    "print(\"-----------------------------------\")\n",
    "print(f\"Charles Casper Stockham: {round((count_votes_ccs/num_votescast)*100,2)}% ({count_votes_ccs})\")\n",
    "print(f\"Diana DeGette: {round((count_votes_DD/num_votescast)*100, 2)}% ({count_votes_DD})\")\n",
    "print(f\"Raymon Anthony Doane: {round((count_votes_RAD/num_votescast)*100,2)}% ({count_votes_RAD})\")\n",
    "print(\"------------------------------------\")\n",
    "print(f\"Winner: Diana DeGette \")\n",
    "print(\"------------------------------------\")\n"
   ]
  },
  {
   "cell_type": "code",
   "execution_count": null,
   "id": "bcbfd8c4",
   "metadata": {},
   "outputs": [],
   "source": []
  }
 ],
 "metadata": {
  "kernelspec": {
   "display_name": "Python 3 (ipykernel)",
   "language": "python",
   "name": "python3"
  },
  "language_info": {
   "codemirror_mode": {
    "name": "ipython",
    "version": 3
   },
   "file_extension": ".py",
   "mimetype": "text/x-python",
   "name": "python",
   "nbconvert_exporter": "python",
   "pygments_lexer": "ipython3",
   "version": "3.11.5"
  }
 },
 "nbformat": 4,
 "nbformat_minor": 5
}
