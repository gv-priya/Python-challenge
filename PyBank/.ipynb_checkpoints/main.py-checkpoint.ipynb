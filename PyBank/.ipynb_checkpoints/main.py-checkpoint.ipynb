{
 "cells": [
  {
   "cell_type": "code",
   "execution_count": 32,
   "id": "294adda9",
   "metadata": {},
   "outputs": [],
   "source": [
    "import csv\n",
    "from datetime import datetime\n",
    "import numpy as np"
   ]
  },
  {
   "cell_type": "code",
   "execution_count": 2,
   "id": "e7f72a06",
   "metadata": {},
   "outputs": [
    {
     "data": {
      "text/plain": [
       "_io.TextIOWrapper"
      ]
     },
     "execution_count": 2,
     "metadata": {},
     "output_type": "execute_result"
    }
   ],
   "source": [
    "file = open('./Resources/budget_data.csv')\n",
    "type(file)"
   ]
  },
  {
   "cell_type": "code",
   "execution_count": 3,
   "id": "0776dc2b",
   "metadata": {},
   "outputs": [
    {
     "name": "stdout",
     "output_type": "stream",
     "text": [
      "[['Date', 'Profit/Losses'], ['Jan-10', '1088983'], ['Feb-10', '-354534'], ['Mar-10', '276622'], ['Apr-10', '-728133'], ['May-10', '852993'], ['Jun-10', '563721'], ['Jul-10', '-535208'], ['Aug-10', '632349'], ['Sep-10', '-173744'], ['Oct-10', '950741'], ['Nov-10', '-785750'], ['Dec-10', '-1194133'], ['Jan-11', '-589576'], ['Feb-11', '-883921'], ['Mar-11', '443564'], ['Apr-11', '837887'], ['May-11', '1081472'], ['Jun-11', '464033'], ['Jul-11', '-1066544'], ['Aug-11', '323846'], ['Sep-11', '-806551'], ['Oct-11', '487053'], ['Nov-11', '1128811'], ['Dec-11', '791398'], ['Jan-12', '739367'], ['Feb-12', '-197825'], ['Mar-12', '666016'], ['Apr-12', '589771'], ['May-12', '489290'], ['Jun-12', '-471439'], ['Jul-12', '120417'], ['Aug-12', '175347'], ['Sep-12', '855449'], ['Oct-12', '605195'], ['Nov-12', '-235220'], ['Dec-12', '347138'], ['Jan-13', '298510'], ['Feb-13', '163254'], ['Mar-13', '1141840'], ['Apr-13', '542630'], ['May-13', '99841'], ['Jun-13', '752765'], ['Jul-13', '-252949'], ['Aug-13', '914424'], ['Sep-13', '679524'], ['Oct-13', '514377'], ['Nov-13', '462102'], ['Dec-13', '159782'], ['Jan-14', '878810'], ['Feb-14', '-946748'], ['Mar-14', '340335'], ['Apr-14', '292032'], ['May-14', '502266'], ['Jun-14', '265852'], ['Jul-14', '851017'], ['Aug-14', '-549615'], ['Sep-14', '290162'], ['Oct-14', '755391'], ['Nov-14', '1073202'], ['Dec-14', '313000'], ['Jan-15', '241132'], ['Feb-15', '1036589'], ['Mar-15', '853904'], ['Apr-15', '-388932'], ['May-15', '982952'], ['Jun-15', '537759'], ['Jul-15', '547784'], ['Aug-15', '-496214'], ['Sep-15', '854181'], ['Oct-15', '934719'], ['Nov-15', '-288531'], ['Dec-15', '-184383'], ['Jan-16', '659541'], ['Feb-16', '-1149123'], ['Mar-16', '355882'], ['Apr-16', '662284'], ['May-16', '518681'], ['Jun-16', '-748256'], ['Jul-16', '-910775'], ['Aug-16', '951227'], ['Sep-16', '898241'], ['Oct-16', '-729004'], ['Nov-16', '-112209'], ['Dec-16', '516313'], ['Jan-17', '607208'], ['Feb-17', '382539']]\n"
     ]
    }
   ],
   "source": [
    "#csvreader = csv.reader(file)\n",
    "filepath = open('./Resources/budget_data.csv', \"r\")\n",
    "data = list(csv.reader(file, delimiter=','))\n",
    "print(data)\n",
    "\n"
   ]
  },
  {
   "cell_type": "code",
   "execution_count": 4,
   "id": "4ed3cccc",
   "metadata": {},
   "outputs": [
    {
     "data": {
      "text/plain": [
       "['Date', 'Profit/Losses']"
      ]
     },
     "execution_count": 4,
     "metadata": {},
     "output_type": "execute_result"
    }
   ],
   "source": [
    "header =[]\n",
    "header = (data[0])\n",
    "header"
   ]
  },
  {
   "cell_type": "code",
   "execution_count": 5,
   "id": "10a93eed",
   "metadata": {},
   "outputs": [
    {
     "data": {
      "text/plain": [
       "['Jan-10',\n",
       " 'Feb-10',\n",
       " 'Mar-10',\n",
       " 'Apr-10',\n",
       " 'May-10',\n",
       " 'Jun-10',\n",
       " 'Jul-10',\n",
       " 'Aug-10',\n",
       " 'Sep-10',\n",
       " 'Oct-10',\n",
       " 'Nov-10',\n",
       " 'Dec-10',\n",
       " 'Jan-11',\n",
       " 'Feb-11',\n",
       " 'Mar-11',\n",
       " 'Apr-11',\n",
       " 'May-11',\n",
       " 'Jun-11',\n",
       " 'Jul-11',\n",
       " 'Aug-11',\n",
       " 'Sep-11',\n",
       " 'Oct-11',\n",
       " 'Nov-11',\n",
       " 'Dec-11',\n",
       " 'Jan-12',\n",
       " 'Feb-12',\n",
       " 'Mar-12',\n",
       " 'Apr-12',\n",
       " 'May-12',\n",
       " 'Jun-12',\n",
       " 'Jul-12',\n",
       " 'Aug-12',\n",
       " 'Sep-12',\n",
       " 'Oct-12',\n",
       " 'Nov-12',\n",
       " 'Dec-12',\n",
       " 'Jan-13',\n",
       " 'Feb-13',\n",
       " 'Mar-13',\n",
       " 'Apr-13',\n",
       " 'May-13',\n",
       " 'Jun-13',\n",
       " 'Jul-13',\n",
       " 'Aug-13',\n",
       " 'Sep-13',\n",
       " 'Oct-13',\n",
       " 'Nov-13',\n",
       " 'Dec-13',\n",
       " 'Jan-14',\n",
       " 'Feb-14',\n",
       " 'Mar-14',\n",
       " 'Apr-14',\n",
       " 'May-14',\n",
       " 'Jun-14',\n",
       " 'Jul-14',\n",
       " 'Aug-14',\n",
       " 'Sep-14',\n",
       " 'Oct-14',\n",
       " 'Nov-14',\n",
       " 'Dec-14',\n",
       " 'Jan-15',\n",
       " 'Feb-15',\n",
       " 'Mar-15',\n",
       " 'Apr-15',\n",
       " 'May-15',\n",
       " 'Jun-15',\n",
       " 'Jul-15',\n",
       " 'Aug-15',\n",
       " 'Sep-15',\n",
       " 'Oct-15',\n",
       " 'Nov-15',\n",
       " 'Dec-15',\n",
       " 'Jan-16',\n",
       " 'Feb-16',\n",
       " 'Mar-16',\n",
       " 'Apr-16',\n",
       " 'May-16',\n",
       " 'Jun-16',\n",
       " 'Jul-16',\n",
       " 'Aug-16',\n",
       " 'Sep-16',\n",
       " 'Oct-16',\n",
       " 'Nov-16',\n",
       " 'Dec-16',\n",
       " 'Jan-17',\n",
       " 'Feb-17']"
      ]
     },
     "execution_count": 5,
     "metadata": {},
     "output_type": "execute_result"
    }
   ],
   "source": [
    "rows_data = data[1:]\n",
    "rows_data\n",
    "date_data = [] \n",
    "for i in range(len(rows_data)):\n",
    "    date_data.append(rows_data[i][0])\n",
    "date_data"
   ]
  },
  {
   "cell_type": "code",
   "execution_count": 6,
   "id": "abe39193",
   "metadata": {},
   "outputs": [
    {
     "data": {
      "text/plain": [
       "[1088983,\n",
       " -354534,\n",
       " 276622,\n",
       " -728133,\n",
       " 852993,\n",
       " 563721,\n",
       " -535208,\n",
       " 632349,\n",
       " -173744,\n",
       " 950741,\n",
       " -785750,\n",
       " -1194133,\n",
       " -589576,\n",
       " -883921,\n",
       " 443564,\n",
       " 837887,\n",
       " 1081472,\n",
       " 464033,\n",
       " -1066544,\n",
       " 323846,\n",
       " -806551,\n",
       " 487053,\n",
       " 1128811,\n",
       " 791398,\n",
       " 739367,\n",
       " -197825,\n",
       " 666016,\n",
       " 589771,\n",
       " 489290,\n",
       " -471439,\n",
       " 120417,\n",
       " 175347,\n",
       " 855449,\n",
       " 605195,\n",
       " -235220,\n",
       " 347138,\n",
       " 298510,\n",
       " 163254,\n",
       " 1141840,\n",
       " 542630,\n",
       " 99841,\n",
       " 752765,\n",
       " -252949,\n",
       " 914424,\n",
       " 679524,\n",
       " 514377,\n",
       " 462102,\n",
       " 159782,\n",
       " 878810,\n",
       " -946748,\n",
       " 340335,\n",
       " 292032,\n",
       " 502266,\n",
       " 265852,\n",
       " 851017,\n",
       " -549615,\n",
       " 290162,\n",
       " 755391,\n",
       " 1073202,\n",
       " 313000,\n",
       " 241132,\n",
       " 1036589,\n",
       " 853904,\n",
       " -388932,\n",
       " 982952,\n",
       " 537759,\n",
       " 547784,\n",
       " -496214,\n",
       " 854181,\n",
       " 934719,\n",
       " -288531,\n",
       " -184383,\n",
       " 659541,\n",
       " -1149123,\n",
       " 355882,\n",
       " 662284,\n",
       " 518681,\n",
       " -748256,\n",
       " -910775,\n",
       " 951227,\n",
       " 898241,\n",
       " -729004,\n",
       " -112209,\n",
       " 516313,\n",
       " 607208,\n",
       " 382539]"
      ]
     },
     "execution_count": 6,
     "metadata": {},
     "output_type": "execute_result"
    }
   ],
   "source": [
    "pl_data = [] \n",
    "for i in range(len(rows_data)):\n",
    "    pl_data.append(int(rows_data[i][1]))\n",
    "type(pl_data[0])\n",
    "pl_data"
   ]
  },
  {
   "cell_type": "code",
   "execution_count": 7,
   "id": "bbfd1f0c",
   "metadata": {},
   "outputs": [
    {
     "name": "stdout",
     "output_type": "stream",
     "text": [
      "count of number of months in 2010: 12\n",
      " count of number of months in 2011: 12\n",
      " count of number of months in 2012:  12\n",
      "\n",
      "count of number of months in 2013: 12\n",
      " count of number of months in 2014:  12\n",
      "\n",
      "count of number of months in 2015: 12\n",
      " count of number of months in 2016: 12\n",
      "\n",
      "count of number of months in 2017: 2\n",
      "\n",
      "total months in dataset = 86\n"
     ]
    }
   ],
   "source": [
    "date_format = \"%b-%y\"\n",
    "parsed_date = []; count_2010 = 0; count_2011 = 0; count_2012 = 0; count_2013 = 0; count_2014 = 0; count_2015=0; count_2016=0;\n",
    "count_2017 =0;\n",
    "for k in date_data:\n",
    "    j = datetime.strptime(k, \"%b-%y\").date()\n",
    "    parsed_date.append(j)\n",
    "for l in range(len(parsed_date)):\n",
    "    if parsed_date[l].year == 2010:\n",
    "        count_2010 += 1\n",
    "    elif parsed_date[l].year == 2011:\n",
    "        count_2011 += 1\n",
    "    elif parsed_date[l].year == 2012:\n",
    "        count_2012 += 1\n",
    "    elif parsed_date[l].year == 2013:\n",
    "        count_2013 += 1\n",
    "    elif parsed_date[l].year == 2014:\n",
    "        count_2014 += 1\n",
    "    elif parsed_date[l].year == 2015:\n",
    "        count_2015 += 1\n",
    "    elif parsed_date[l].year == 2016:\n",
    "        count_2016 += 1\n",
    "    else:\n",
    "        count_2017 +=1\n",
    "total_count_months = count_2010 + count_2011 + count_2012 + count_2013 + count_2014 + count_2015 + count_2016 + count_2017\n",
    "print(f\"count of number of months in 2010: {count_2010}\\n count of number of months in 2011: {count_2011}\\n count of number of months in 2012:  {count_2012}\\n\")\n",
    "print(f\"count of number of months in 2013: {count_2013}\\n count of number of months in 2014:  {count_2014}\\n\")\n",
    "print(f\"count of number of months in 2015: {count_2015}\\n count of number of months in 2016: {count_2016}\\n\")\n",
    "print(f\"count of number of months in 2017: {count_2017}\\n\")\n",
    "print(f\"total months in dataset = {total_count_months}\")"
   ]
  },
  {
   "cell_type": "code",
   "execution_count": 8,
   "id": "f2b210b6",
   "metadata": {},
   "outputs": [
    {
     "name": "stdout",
     "output_type": "stream",
     "text": [
      "total profit and loss = 22564198\n"
     ]
    }
   ],
   "source": [
    "#net total amount of profit/loss\n",
    "total_pl = 0\n",
    "for K in range(len(pl_data)):\n",
    "    total_pl += pl_data[K] \n",
    "print(f\"total profit and loss = {total_pl}\")"
   ]
  },
  {
   "cell_type": "code",
   "execution_count": 89,
   "id": "b60efa02",
   "metadata": {},
   "outputs": [
    {
     "data": {
      "text/plain": [
       "-8311.11"
      ]
     },
     "execution_count": 89,
     "metadata": {},
     "output_type": "execute_result"
    }
   ],
   "source": [
    "# the changes in profit and loss over the entire period  and the average of those changes\n",
    "monthly_deltas = [pl_data[i] - pl_data[i - 1] for i in range(1, len(pl_data))]\n",
    "monthly_deltas\n",
    "average_change = np.round(sum(monthly_deltas) / len(monthly_deltas),2)\n",
    "average_change\n",
    "max_change = max(monthly_deltas)\n",
    "min_change = min(monthly_deltas)\n",
    "max_change\n",
    "min_change\n",
    "max_month = monthly_deltas.index(max_change) + 1  # Adding 1 to convert index to month\n",
    "min_month = monthly_deltas.index(min_change) + 1\n",
    "date_data[max_month]\n",
    "monthly_deltas\n",
    "average_change"
   ]
  },
  {
   "cell_type": "code",
   "execution_count": 87,
   "id": "b70a9441",
   "metadata": {},
   "outputs": [
    {
     "name": "stdout",
     "output_type": "stream",
     "text": [
      "Financial Analysis\n",
      "----------------------\n",
      "total months: 86\n",
      "total:$22564198\n",
      "Average change: $-8311.11\n",
      "greatest increase in profits: Aug-16 ($1862002)\n",
      "greatest decrease in profits: Feb-14 ($-1825558)\n"
     ]
    }
   ],
   "source": [
    "print(\"Financial Analysis\")\n",
    "print(\"----------------------\")\n",
    "print(f\"total months: {total_count_months}\")\n",
    "print(f\"total:${total_pl}\")\n",
    "print(f\"Average change: ${average_change}\")\n",
    "print(f\"greatest increase in profits: {date_data[max_month]} (${max_change})\")\n",
    "print(f\"greatest decrease in profits: {date_data[min_month]} (${min_change})\")\n"
   ]
  },
  {
   "cell_type": "code",
   "execution_count": null,
   "id": "63040c50",
   "metadata": {},
   "outputs": [],
   "source": []
  }
 ],
 "metadata": {
  "kernelspec": {
   "display_name": "Python 3 (ipykernel)",
   "language": "python",
   "name": "python3"
  },
  "language_info": {
   "codemirror_mode": {
    "name": "ipython",
    "version": 3
   },
   "file_extension": ".py",
   "mimetype": "text/x-python",
   "name": "python",
   "nbconvert_exporter": "python",
   "pygments_lexer": "ipython3",
   "version": "3.11.5"
  }
 },
 "nbformat": 4,
 "nbformat_minor": 5
}
